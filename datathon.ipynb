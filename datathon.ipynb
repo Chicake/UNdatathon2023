{
 "cells": [
  {
   "cell_type": "code",
   "execution_count": 1,
   "id": "56a14a52",
   "metadata": {},
   "outputs": [],
   "source": [
    "# import libraries\n",
    "import pandas as pd\n",
    "import researchpy as rp\n",
    "from statsmodels.stats.diagnostic import het_white\n",
    "from statsmodels.stats.stattools import durbin_watson\n",
    "import statsmodels.api as sm\n",
    "import statsmodels.formula.api as smf\n",
    "import scipy.stats as stats\n",
    "from sklearn import linear_model\n",
    "from sklearn.linear_model import LinearRegression"
   ]
  },
  {
   "cell_type": "markdown",
   "id": "6f459d13",
   "metadata": {},
   "source": [
    "Data source: Portal Site of Official Statistics of Japan website (https://www.e-stat.go.jp/), System of Social and Demographic Statistics (Municipality data)"
   ]
  },
  {
   "cell_type": "code",
   "execution_count": 2,
   "id": "06e320fe",
   "metadata": {},
   "outputs": [],
   "source": [
    "# data description\n",
    "#data = pd.read_csv(\"/Users/Chloe/Desktop/Uni (2023-2024)/UN Datathon 2023/Processed Data/datav2.csv\")\n",
    "#data.info()  # data information\n",
    "#rp.codebook(data)  # descriptive statistics for each variable"
   ]
  },
  {
   "cell_type": "code",
   "execution_count": 3,
   "id": "d310c25b",
   "metadata": {},
   "outputs": [
    {
     "name": "stdout",
     "output_type": "stream",
     "text": [
      "How many IVs will you have? 3\n",
      "What is the column name for your IV1? year\n",
      "What is the column name for your IV2? education\n",
      "What is the column name for your IV3? percEmpl\n"
     ]
    }
   ],
   "source": [
    "# collecting inputs from the user\n",
    "def input_ivs():\n",
    "    input_list = []\n",
    "    how_many = input(\"How many IVs will you have? \")\n",
    "    for i in range(int(how_many)):\n",
    "        iv = input(f\"What is the column name for your IV{int(i)+1}? \")\n",
    "        input_list.append(iv)\n",
    "    return input_list\n",
    "iv_list = input_ivs()\n",
    "\n",
    "# applicable function to run the model\n",
    "def marginal_village_model(data_path, year_column, city_column, dv, iv_list = iv_list):\n",
    "    \"\"\"\n",
    "    data_path (str) - local path to the data file\n",
    "    year_column (str) - column within the data for year\n",
    "    city_column (str) - column within the data for city\n",
    "    iv_list (list) - list of strings with the name of columns for IV (from input_ivs function)\n",
    "    dv (str) - column within the data for DV\n",
    "    \"\"\"\n",
    "    data = pd.read_csv(data_path)\n",
    "    for iv in iv_list:\n",
    "        statistics, _ = stats.pearsonr(data[iv], data[dv])\n",
    "        if statistics < 0.3 or statistics > -0.3:\n",
    "            print(f\"{iv} and {dv} seems to not have strong linear relationship, which may violate the assumption of independence.\")\n",
    "    cities = data[city_column].unique()\n",
    "    models_list = {}\n",
    "    for city in cities:\n",
    "        data_model = data.loc[data[city_column] == city]\n",
    "        lin_reg = LinearRegression()\n",
    "        linreg = lin_reg.fit(data_model.loc[:, iv_list], data_model.loc[:, dv])\n",
    "        models_list[city] = [[linreg.intercept_], list(linreg.coef_), [linreg]]\n",
    "    return models_list\n",
    "\n",
    "# prints out weighting of each ivs\n",
    "def weighting_marginal_village(city, models_list, iv_list = iv_list):  \n",
    "    \"\"\"\n",
    "    city (str) - city name\n",
    "    models_list - dictionary of city (key) and model (value). output from function marginal_village_model.\n",
    "    \"\"\"\n",
    "    print(\"-----\")\n",
    "    for i in range(len(iv_list)):\n",
    "        print(f\"Weighting for {iv_list[i]}: {models_list[city][1][i]}\")\n",
    "    print(\"-----\")\n",
    "\n",
    "# predict proportion of 65+ years old population\n",
    "def predict_marginal_village(city, models_list, iv_list = iv_list):  \n",
    "    \"\"\"\n",
    "    city (str) - city name\n",
    "    models_list - dictionary of city (key) and model (value). output from function marginal_village_model.\n",
    "    \"\"\"\n",
    "    iv_inputs = []\n",
    "    for iv in iv_list:\n",
    "        input_user = input(f\"Please enter the {iv} for the {city} to predict (same unit as the dataset): \")\n",
    "        iv_inputs.append(float(input_user))\n",
    "    params = models_list[city]\n",
    "    prediction = models_list[city][0][0]\n",
    "    for i in range(len(iv_inputs)):\n",
    "        prediction += iv_inputs[i]*models_list[city][1][i]\n",
    "    return prediction"
   ]
  },
  {
   "cell_type": "code",
   "execution_count": 4,
   "id": "0cbaa202",
   "metadata": {},
   "outputs": [
    {
     "name": "stdout",
     "output_type": "stream",
     "text": [
      "year and percOldPop seems to not have strong linear relationship, which may violate the assumption of independence.\n",
      "education and percOldPop seems to not have strong linear relationship, which may violate the assumption of independence.\n",
      "percEmpl and percOldPop seems to not have strong linear relationship, which may violate the assumption of independence.\n",
      "-----\n",
      "Weighting for year: 0.6246566200677964\n",
      "Weighting for education: 0.01739841217080179\n",
      "Weighting for percEmpl: 0.3691937041877254\n",
      "-----\n",
      "Please enter the year for the Yamanashi-ken Yamanashi-shi to predict (same unit as the dataset): 2021\n",
      "Please enter the education for the Yamanashi-ken Yamanashi-shi to predict (same unit as the dataset): 3\n",
      "Please enter the percEmpl for the Yamanashi-ken Yamanashi-shi to predict (same unit as the dataset): 0.5\n"
     ]
    },
    {
     "data": {
      "text/plain": [
       "15.831508671391436"
      ]
     },
     "execution_count": 4,
     "metadata": {},
     "output_type": "execute_result"
    }
   ],
   "source": [
    "# users need to edit codes below\n",
    "models_list = marginal_village_model(data_path = \"./datav2.csv\", year_column = \"year\", city_column = \"mun\", dv = \"percOldPop\")\n",
    "weighting_marginal_village(\"Yamanashi-ken Yamanashi-shi\", models_list)\n",
    "predict_marginal_village(\"Yamanashi-ken Yamanashi-shi\", models_list)"
   ]
  }
 ],
 "metadata": {
  "kernelspec": {
   "display_name": "Python 3 (ipykernel)",
   "language": "python",
   "name": "python3"
  },
  "language_info": {
   "codemirror_mode": {
    "name": "ipython",
    "version": 3
   },
   "file_extension": ".py",
   "mimetype": "text/x-python",
   "name": "python",
   "nbconvert_exporter": "python",
   "pygments_lexer": "ipython3",
   "version": "3.9.13"
  }
 },
 "nbformat": 4,
 "nbformat_minor": 5
}
